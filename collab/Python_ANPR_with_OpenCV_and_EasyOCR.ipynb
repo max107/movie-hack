{
  "nbformat": 4,
  "nbformat_minor": 0,
  "metadata": {
    "colab": {
      "name": "Python ANPR with OpenCV and EasyOCR.ipynb",
      "provenance": [],
      "collapsed_sections": [],
      "machine_shape": "hm"
    },
    "kernelspec": {
      "name": "python3",
      "display_name": "Python 3"
    }
  },
  "cells": [
    {
      "cell_type": "code",
      "metadata": {
        "colab": {
          "base_uri": "https://localhost:8080/"
        },
        "id": "JEnVgTQA_rbn",
        "outputId": "af3d76b3-cd0f-42c1-93e4-6e8cb9d921f7"
      },
      "source": [
        "!git pull"
      ],
      "execution_count": 2,
      "outputs": [
        {
          "output_type": "stream",
          "text": [
            "fatal: not a git repository (or any of the parent directories): .git\n"
          ],
          "name": "stdout"
        }
      ]
    },
    {
      "cell_type": "markdown",
      "metadata": {
        "id": "avAcSL_uvtq_"
      },
      "source": [
        "## Python ANPR with OpenCV and EasyOCR\n",
        "https://www.youtube.com/watch?v=NApYP_5wlKY\n",
        "\n",
        "https://github.com/nicknochnack/ANPRwithPython/blob/main/ANPR%20-%20Tutorial.ipynb"
      ]
    },
    {
      "cell_type": "code",
      "metadata": {
        "id": "A3Y8K22Sv9Gn",
        "cellView": "form"
      },
      "source": [
        "#@title Launch\n",
        "\n",
        "#Mount Google Drive as folder\n",
        "#from google.colab import drive\n",
        "#drive.mount('/content/drive', force_remount=True)\n",
        "\n",
        "InputFileDrivePath = \"/content/drive/My\\ Drive/Colab\\ Notebooks/Movie-Hacks/image1.jpg\"  #@param {type:\"string\"}\n",
        "OutputFileDrivePath = \"/content/drive/My\\ Drive/Colab\\ Notebooks/Movie-Hacks/result.jpg\"  #@param {type:\"string\"}\n",
        "\n",
        "%cd \"/content/\"\n",
        "\n",
        "!git clone https://github.com/panichmaxim/movie-hack\n",
        "\n",
        "%cd \"/content/movie-hack/car_number_detection/opencv\"\n",
        "\n",
        "!pip install -r requirements.txt\n",
        "\n",
        "cmd = \"main.py -outputFilePath result.jpg -inputFilePath /content/movie-hack/test/image1.jpg\"\n",
        "# cmd = \"main.py -outputFilePath\" + OutputFileDrivePath +  \" -inputFilePath \" + FileDrivePath\n",
        "\n",
        "\n",
        "!python $cmd"
      ],
      "execution_count": null,
      "outputs": []
    },
    {
      "cell_type": "markdown",
      "metadata": {
        "id": "tde5qXiVqyog"
      },
      "source": [
        "## YOLO\n",
        "https://github.com/alitourani/yolo-license-plate-detection.git\n"
      ]
    },
    {
      "cell_type": "code",
      "metadata": {
        "colab": {
          "base_uri": "https://localhost:8080/"
        },
        "cellView": "form",
        "id": "9ajMkZNkrKCZ",
        "outputId": "bf0b8fb5-4581-48f5-cf0f-6648584635df"
      },
      "source": [
        "#@title Launch\n",
        "\n",
        "#Mount Google Drive as folder\n",
        "from google.colab import drive\n",
        "drive.mount('/content/drive', force_remount=True)\n",
        "\n",
        "InputFileDrivePath = \"/content/drive/My\\ Drive/Colab\\ Notebooks/Movie-Hack/image1.jpg\"  #@param {type:\"string\"}\n",
        "OutputFileDrivePath = \"/content/drive/My\\ Drive/Colab\\ Notebooks/Movie-Hack/result.jpg\"  #@param {type:\"string\"}\n",
        "ModelDrivePath = \"/content/drive/My\\ Drive/Colab\\ Notebooks/Movie-Hack/model.weights\"  #@param {type:\"string\"}\n",
        "\n",
        "%cd \"/content/\"\n",
        "\n",
        "!git clone https://github.com/panichmaxim/movie-hack\n",
        "\n",
        "%cd \"/content/movie-hack/car_number_detection/yolo\"\n",
        "\n",
        "!pip install -r requirements.txt\n",
        "\n",
        "cmd = \"main.py --inputFilePath /content/movie-hack/test/image1.jpg --modelPath \" + ModelDrivePath\n",
        "# cmd = \"main.py -outputFilePath\" + OutputFileDrivePath +  \" -inputFilePath \" + FileDrivePath\n",
        "\n",
        "\n",
        "!python $cmd"
      ],
      "execution_count": 6,
      "outputs": [
        {
          "output_type": "stream",
          "text": [
            "Mounted at /content/drive\n",
            "/content\n",
            "fatal: destination path 'movie-hack' already exists and is not an empty directory.\n",
            "/content/movie-hack/car_number_detection/yolo\n",
            "out.shape :  (507, 6)\n",
            "out.shape :  (2028, 6)\n",
            "0.99982387  -  0.9996453  - th :  0.5\n",
            "[0.29218206 0.45773703 0.19910479 0.07690084 0.99982387 0.9996453 ]\n",
            "0.69841576  -  0.0  - th :  0.5\n",
            "[0.29383108 0.46192172 0.18015634 0.08171885 0.69841576 0.        ]\n",
            "out.shape :  (8112, 6)\n",
            "Done processing !!!\n",
            "Output file is stored as  result.jpg\n"
          ],
          "name": "stdout"
        }
      ]
    }
  ]
}